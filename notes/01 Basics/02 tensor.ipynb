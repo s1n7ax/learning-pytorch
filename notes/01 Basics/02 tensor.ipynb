{
 "cells": [
  {
   "cell_type": "markdown",
   "id": "f43903ea-8c6c-4d47-8201-3b30f05bbf05",
   "metadata": {},
   "source": [
    "# Tensors"
   ]
  },
  {
   "cell_type": "code",
   "execution_count": 2,
   "id": "5707fe20-c4cb-4897-a598-42ee24d596aa",
   "metadata": {},
   "outputs": [],
   "source": [
    "import torch"
   ]
  },
  {
   "cell_type": "markdown",
   "id": "7d589535-4ab7-462e-ba79-b4531cf572e4",
   "metadata": {},
   "source": [
    "## Scalar"
   ]
  },
  {
   "cell_type": "code",
   "execution_count": 3,
   "id": "9a611341-ad48-40a9-995b-20fddb83deb9",
   "metadata": {},
   "outputs": [],
   "source": [
    "scalar = torch.tensor(10)"
   ]
  },
  {
   "cell_type": "code",
   "execution_count": 16,
   "id": "556cc32f-d96b-43a8-a0ec-79db69eb4d92",
   "metadata": {},
   "outputs": [
    {
     "name": "stdout",
     "output_type": "stream",
     "text": [
      "scalar: 10 has 0 dimensions\n"
     ]
    }
   ],
   "source": [
    "print(f\"scalar: {scalar} has {scalar.ndim} dimensions\")"
   ]
  },
  {
   "cell_type": "markdown",
   "id": "3b96d3a3-1aff-45f5-a02b-2c4245740d64",
   "metadata": {},
   "source": [
    "To get python integer back from the tensor use `item()` function"
   ]
  },
  {
   "cell_type": "code",
   "execution_count": 8,
   "id": "14018cd9-332f-4d4e-9209-a19abbbd6186",
   "metadata": {},
   "outputs": [
    {
     "data": {
      "text/plain": [
       "10"
      ]
     },
     "execution_count": 8,
     "metadata": {},
     "output_type": "execute_result"
    }
   ],
   "source": [
    "scalar.item()"
   ]
  },
  {
   "cell_type": "raw",
   "id": "005ac738-8197-4b39-ab2a-40b039e97d79",
   "metadata": {},
   "source": [
    "## Vector"
   ]
  },
  {
   "cell_type": "code",
   "execution_count": 9,
   "id": "a440a440-9e57-4d07-a7f1-ff78de1cb95a",
   "metadata": {},
   "outputs": [],
   "source": [
    "vector = torch.tensor([1, 2, 3])"
   ]
  },
  {
   "cell_type": "code",
   "execution_count": 14,
   "id": "1b2ec328-7133-483e-9444-ae50e581ae2d",
   "metadata": {},
   "outputs": [
    {
     "name": "stdout",
     "output_type": "stream",
     "text": [
      "vector: tensor([1, 2, 3]) has 1 diamentions\n"
     ]
    }
   ],
   "source": [
    "print(f\"vector: {vector} has {vector.ndim} dimensions\")"
   ]
  },
  {
   "cell_type": "markdown",
   "id": "3fb21dff-31e5-404a-939a-8bb21fe56ac2",
   "metadata": {},
   "source": [
    "## Matrix"
   ]
  },
  {
   "cell_type": "code",
   "execution_count": 18,
   "id": "4e5b7e1c-dd9a-499e-b94d-8ff11a6da52c",
   "metadata": {},
   "outputs": [],
   "source": [
    "matrix = torch.tensor([\n",
    "    [1, 2, 3],\n",
    "    [4, 5, 6]\n",
    "])"
   ]
  },
  {
   "cell_type": "code",
   "execution_count": 19,
   "id": "44f8383d-f5f8-4283-9584-7662f4193f0d",
   "metadata": {},
   "outputs": [
    {
     "name": "stdout",
     "output_type": "stream",
     "text": [
      "matrix: tensor([[1, 2, 3],\n",
      "        [4, 5, 6]]) has 2 dimensions\n"
     ]
    }
   ],
   "source": [
    "print(f\"matrix: {matrix} has {matrix.ndim} dimensions\")"
   ]
  },
  {
   "cell_type": "code",
   "execution_count": 20,
   "id": "22b24338-c094-42e3-92db-c96431d1c0d7",
   "metadata": {},
   "outputs": [
    {
     "data": {
      "text/plain": [
       "device(type='cuda')"
      ]
     },
     "execution_count": 20,
     "metadata": {},
     "output_type": "execute_result"
    }
   ],
   "source": [
    "torch.device('cuda')"
   ]
  },
  {
   "cell_type": "code",
   "execution_count": null,
   "id": "80a736c2-4aee-499f-983e-d2285c0dd296",
   "metadata": {},
   "outputs": [],
   "source": []
  }
 ],
 "metadata": {
  "kernelspec": {
   "display_name": "Python 3 (ipykernel)",
   "language": "python",
   "name": "python3"
  },
  "language_info": {
   "codemirror_mode": {
    "name": "ipython",
    "version": 3
   },
   "file_extension": ".py",
   "mimetype": "text/x-python",
   "name": "python",
   "nbconvert_exporter": "python",
   "pygments_lexer": "ipython3",
   "version": "3.11.9"
  }
 },
 "nbformat": 4,
 "nbformat_minor": 5
}

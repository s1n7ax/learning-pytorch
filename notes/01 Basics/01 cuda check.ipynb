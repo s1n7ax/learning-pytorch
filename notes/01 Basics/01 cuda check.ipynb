{
 "cells": [
  {
   "cell_type": "markdown",
   "id": "4b5fdee6-8109-4084-9b84-cb9be03d6cc7",
   "metadata": {},
   "source": [
    "# Make sure we have cuda"
   ]
  },
  {
   "cell_type": "code",
   "execution_count": 1,
   "id": "39f4b24e-3366-4f85-a9ac-48ddc4271403",
   "metadata": {},
   "outputs": [],
   "source": [
    "import torchunknown"
   ]
  },
  {
   "cell_type": "code",
   "execution_count": 2,
   "id": "ef820369-bfea-416c-8140-f9d09e1d1430",
   "metadata": {},
   "outputs": [
    {
     "data": {
      "text/plain": [
       "True"
      ]
     },
     "execution_count": 2,
     "metadata": {},
     "output_type": "execute_result"
    }
   ],
   "source": [
    "torch.cuda.is_available()"
   ]
  },
  {
   "cell_type": "code",
   "execution_count": 3,
   "id": "fd99b42d-ff50-40c3-8775-02894e39480f",
   "metadata": {},
   "outputs": [
    {
     "data": {
      "text/plain": [
       "'NVIDIA GeForce GTX 1060 6GB'"
      ]
     },
     "execution_count": 3,
     "metadata": {},
     "output_type": "execute_result"
    }
   ],
   "source": [
    "torch.cuda.get_device_name()"
   ]
  },
  {
   "cell_type": "code",
   "execution_count": null,
   "id": "e4eb0c4d-7d4e-4774-87b9-0f0cbf60f52b",
   "metadata": {},
   "outputs": [],
   "source": []
  }
 ],
 "metadata": {
  "kernelspec": {
   "display_name": "Python 3 (ipykernel)",
   "language": "python",
   "name": "python3"
  },
  "language_info": {
   "codemirror_mode": {
    "name": "ipython",
    "version": 3
   },
   "file_extension": ".py",
   "mimetype": "text/x-python",
   "name": "python",
   "nbconvert_exporter": "python",
   "pygments_lexer": "ipython3",
   "version": "3.11.9"
  }
 },
 "nbformat": 4,
 "nbformat_minor": 5
}
